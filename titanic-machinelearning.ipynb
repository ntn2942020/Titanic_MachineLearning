{
 "cells": [
  {
   "cell_type": "code",
   "execution_count": 1,
   "id": "2057a433",
   "metadata": {
    "execution": {
     "iopub.execute_input": "2022-10-20T10:11:08.337991Z",
     "iopub.status.busy": "2022-10-20T10:11:08.337582Z",
     "iopub.status.idle": "2022-10-20T10:11:09.605909Z",
     "shell.execute_reply": "2022-10-20T10:11:09.604977Z"
    },
    "papermill": {
     "duration": 1.28,
     "end_time": "2022-10-20T10:11:09.608643",
     "exception": false,
     "start_time": "2022-10-20T10:11:08.328643",
     "status": "completed"
    },
    "tags": []
   },
   "outputs": [],
   "source": [
    "import matplotlib.pyplot as plt\n",
    "import seaborn as sns\n",
    "import numpy as np\n",
    "import pandas as pd\n",
    "from category_encoders import OneHotEncoder\n",
    "from category_encoders import OrdinalEncoder\n",
    "from sklearn.linear_model import LogisticRegression\n",
    "from sklearn.impute import SimpleImputer\n",
    "from sklearn.tree import DecisionTreeClassifier, plot_tree\n",
    "from sklearn.metrics import accuracy_score\n",
    "from sklearn.model_selection import train_test_split\n",
    "from sklearn.pipeline import Pipeline, make_pipeline\n",
    "from sklearn.utils.validation import check_is_fitted"
   ]
  },
  {
   "cell_type": "markdown",
   "id": "4fbc8ae1",
   "metadata": {
    "papermill": {
     "duration": 0.00617,
     "end_time": "2022-10-20T10:11:09.622058",
     "exception": false,
     "start_time": "2022-10-20T10:11:09.615888",
     "status": "completed"
    },
    "tags": []
   },
   "source": [
    "# Prepare Data"
   ]
  },
  {
   "cell_type": "markdown",
   "id": "14ba3ff5",
   "metadata": {
    "papermill": {
     "duration": 0.005971,
     "end_time": "2022-10-20T10:11:09.634414",
     "exception": false,
     "start_time": "2022-10-20T10:11:09.628443",
     "status": "completed"
    },
    "tags": []
   },
   "source": [
    "## Import"
   ]
  },
  {
   "cell_type": "code",
   "execution_count": 2,
   "id": "9cab6a75",
   "metadata": {
    "execution": {
     "iopub.execute_input": "2022-10-20T10:11:09.648523Z",
     "iopub.status.busy": "2022-10-20T10:11:09.647805Z",
     "iopub.status.idle": "2022-10-20T10:11:09.686066Z",
     "shell.execute_reply": "2022-10-20T10:11:09.685317Z"
    },
    "papermill": {
     "duration": 0.047237,
     "end_time": "2022-10-20T10:11:09.687896",
     "exception": false,
     "start_time": "2022-10-20T10:11:09.640659",
     "status": "completed"
    },
    "tags": []
   },
   "outputs": [
    {
     "data": {
      "text/html": [
       "<div>\n",
       "<style scoped>\n",
       "    .dataframe tbody tr th:only-of-type {\n",
       "        vertical-align: middle;\n",
       "    }\n",
       "\n",
       "    .dataframe tbody tr th {\n",
       "        vertical-align: top;\n",
       "    }\n",
       "\n",
       "    .dataframe thead th {\n",
       "        text-align: right;\n",
       "    }\n",
       "</style>\n",
       "<table border=\"1\" class=\"dataframe\">\n",
       "  <thead>\n",
       "    <tr style=\"text-align: right;\">\n",
       "      <th></th>\n",
       "      <th>Survived</th>\n",
       "      <th>Pclass</th>\n",
       "      <th>Name</th>\n",
       "      <th>Sex</th>\n",
       "      <th>Age</th>\n",
       "      <th>SibSp</th>\n",
       "      <th>Parch</th>\n",
       "      <th>Ticket</th>\n",
       "      <th>Fare</th>\n",
       "      <th>Cabin</th>\n",
       "      <th>Embarked</th>\n",
       "    </tr>\n",
       "    <tr>\n",
       "      <th>PassengerId</th>\n",
       "      <th></th>\n",
       "      <th></th>\n",
       "      <th></th>\n",
       "      <th></th>\n",
       "      <th></th>\n",
       "      <th></th>\n",
       "      <th></th>\n",
       "      <th></th>\n",
       "      <th></th>\n",
       "      <th></th>\n",
       "      <th></th>\n",
       "    </tr>\n",
       "  </thead>\n",
       "  <tbody>\n",
       "    <tr>\n",
       "      <th>1</th>\n",
       "      <td>0</td>\n",
       "      <td>3</td>\n",
       "      <td>Braund, Mr. Owen Harris</td>\n",
       "      <td>male</td>\n",
       "      <td>22.0</td>\n",
       "      <td>1</td>\n",
       "      <td>0</td>\n",
       "      <td>A/5 21171</td>\n",
       "      <td>7.2500</td>\n",
       "      <td>NaN</td>\n",
       "      <td>S</td>\n",
       "    </tr>\n",
       "    <tr>\n",
       "      <th>2</th>\n",
       "      <td>1</td>\n",
       "      <td>1</td>\n",
       "      <td>Cumings, Mrs. John Bradley (Florence Briggs Th...</td>\n",
       "      <td>female</td>\n",
       "      <td>38.0</td>\n",
       "      <td>1</td>\n",
       "      <td>0</td>\n",
       "      <td>PC 17599</td>\n",
       "      <td>71.2833</td>\n",
       "      <td>C85</td>\n",
       "      <td>C</td>\n",
       "    </tr>\n",
       "    <tr>\n",
       "      <th>3</th>\n",
       "      <td>1</td>\n",
       "      <td>3</td>\n",
       "      <td>Heikkinen, Miss. Laina</td>\n",
       "      <td>female</td>\n",
       "      <td>26.0</td>\n",
       "      <td>0</td>\n",
       "      <td>0</td>\n",
       "      <td>STON/O2. 3101282</td>\n",
       "      <td>7.9250</td>\n",
       "      <td>NaN</td>\n",
       "      <td>S</td>\n",
       "    </tr>\n",
       "    <tr>\n",
       "      <th>4</th>\n",
       "      <td>1</td>\n",
       "      <td>1</td>\n",
       "      <td>Futrelle, Mrs. Jacques Heath (Lily May Peel)</td>\n",
       "      <td>female</td>\n",
       "      <td>35.0</td>\n",
       "      <td>1</td>\n",
       "      <td>0</td>\n",
       "      <td>113803</td>\n",
       "      <td>53.1000</td>\n",
       "      <td>C123</td>\n",
       "      <td>S</td>\n",
       "    </tr>\n",
       "    <tr>\n",
       "      <th>5</th>\n",
       "      <td>0</td>\n",
       "      <td>3</td>\n",
       "      <td>Allen, Mr. William Henry</td>\n",
       "      <td>male</td>\n",
       "      <td>35.0</td>\n",
       "      <td>0</td>\n",
       "      <td>0</td>\n",
       "      <td>373450</td>\n",
       "      <td>8.0500</td>\n",
       "      <td>NaN</td>\n",
       "      <td>S</td>\n",
       "    </tr>\n",
       "  </tbody>\n",
       "</table>\n",
       "</div>"
      ],
      "text/plain": [
       "             Survived  Pclass  \\\n",
       "PassengerId                     \n",
       "1                   0       3   \n",
       "2                   1       1   \n",
       "3                   1       3   \n",
       "4                   1       1   \n",
       "5                   0       3   \n",
       "\n",
       "                                                          Name     Sex   Age  \\\n",
       "PassengerId                                                                    \n",
       "1                                      Braund, Mr. Owen Harris    male  22.0   \n",
       "2            Cumings, Mrs. John Bradley (Florence Briggs Th...  female  38.0   \n",
       "3                                       Heikkinen, Miss. Laina  female  26.0   \n",
       "4                 Futrelle, Mrs. Jacques Heath (Lily May Peel)  female  35.0   \n",
       "5                                     Allen, Mr. William Henry    male  35.0   \n",
       "\n",
       "             SibSp  Parch            Ticket     Fare Cabin Embarked  \n",
       "PassengerId                                                          \n",
       "1                1      0         A/5 21171   7.2500   NaN        S  \n",
       "2                1      0          PC 17599  71.2833   C85        C  \n",
       "3                0      0  STON/O2. 3101282   7.9250   NaN        S  \n",
       "4                1      0            113803  53.1000  C123        S  \n",
       "5                0      0            373450   8.0500   NaN        S  "
      ]
     },
     "execution_count": 2,
     "metadata": {},
     "output_type": "execute_result"
    }
   ],
   "source": [
    "df = pd.read_csv(\"../input/titanic/train.csv\", index_col=\"PassengerId\")\n",
    "df.head()"
   ]
  },
  {
   "cell_type": "code",
   "execution_count": 3,
   "id": "1a3f80b4",
   "metadata": {
    "execution": {
     "iopub.execute_input": "2022-10-20T10:11:09.702356Z",
     "iopub.status.busy": "2022-10-20T10:11:09.702040Z",
     "iopub.status.idle": "2022-10-20T10:11:09.716989Z",
     "shell.execute_reply": "2022-10-20T10:11:09.716195Z"
    },
    "papermill": {
     "duration": 0.024836,
     "end_time": "2022-10-20T10:11:09.719358",
     "exception": false,
     "start_time": "2022-10-20T10:11:09.694522",
     "status": "completed"
    },
    "tags": []
   },
   "outputs": [
    {
     "name": "stdout",
     "output_type": "stream",
     "text": [
      "<class 'pandas.core.frame.DataFrame'>\n",
      "Int64Index: 891 entries, 1 to 891\n",
      "Data columns (total 11 columns):\n",
      " #   Column    Non-Null Count  Dtype  \n",
      "---  ------    --------------  -----  \n",
      " 0   Survived  891 non-null    int64  \n",
      " 1   Pclass    891 non-null    int64  \n",
      " 2   Name      891 non-null    object \n",
      " 3   Sex       891 non-null    object \n",
      " 4   Age       714 non-null    float64\n",
      " 5   SibSp     891 non-null    int64  \n",
      " 6   Parch     891 non-null    int64  \n",
      " 7   Ticket    891 non-null    object \n",
      " 8   Fare      891 non-null    float64\n",
      " 9   Cabin     204 non-null    object \n",
      " 10  Embarked  889 non-null    object \n",
      "dtypes: float64(2), int64(4), object(5)\n",
      "memory usage: 83.5+ KB\n"
     ]
    }
   ],
   "source": [
    "df.info()"
   ]
  },
  {
   "cell_type": "markdown",
   "id": "047a063c",
   "metadata": {
    "papermill": {
     "duration": 0.006638,
     "end_time": "2022-10-20T10:11:09.734493",
     "exception": false,
     "start_time": "2022-10-20T10:11:09.727855",
     "status": "completed"
    },
    "tags": []
   },
   "source": [
    "## Explore"
   ]
  },
  {
   "cell_type": "code",
   "execution_count": 4,
   "id": "6edb4ab8",
   "metadata": {
    "execution": {
     "iopub.execute_input": "2022-10-20T10:11:09.751125Z",
     "iopub.status.busy": "2022-10-20T10:11:09.750699Z",
     "iopub.status.idle": "2022-10-20T10:11:09.758973Z",
     "shell.execute_reply": "2022-10-20T10:11:09.758332Z"
    },
    "papermill": {
     "duration": 0.018459,
     "end_time": "2022-10-20T10:11:09.760690",
     "exception": false,
     "start_time": "2022-10-20T10:11:09.742231",
     "status": "completed"
    },
    "tags": []
   },
   "outputs": [
    {
     "data": {
      "text/plain": [
       "Survived    0.000000\n",
       "Pclass      0.000000\n",
       "Name        0.000000\n",
       "Sex         0.000000\n",
       "Age         0.198653\n",
       "SibSp       0.000000\n",
       "Parch       0.000000\n",
       "Ticket      0.000000\n",
       "Fare        0.000000\n",
       "Cabin       0.771044\n",
       "Embarked    0.002245\n",
       "dtype: float64"
      ]
     },
     "execution_count": 4,
     "metadata": {},
     "output_type": "execute_result"
    }
   ],
   "source": [
    "# Find feature with high null counts\n",
    "df.isnull().sum()/len(df)"
   ]
  },
  {
   "cell_type": "code",
   "execution_count": 5,
   "id": "88a3121c",
   "metadata": {
    "execution": {
     "iopub.execute_input": "2022-10-20T10:11:09.776564Z",
     "iopub.status.busy": "2022-10-20T10:11:09.775933Z",
     "iopub.status.idle": "2022-10-20T10:11:09.781443Z",
     "shell.execute_reply": "2022-10-20T10:11:09.780844Z"
    },
    "papermill": {
     "duration": 0.0149,
     "end_time": "2022-10-20T10:11:09.783072",
     "exception": false,
     "start_time": "2022-10-20T10:11:09.768172",
     "status": "completed"
    },
    "tags": []
   },
   "outputs": [],
   "source": [
    "# Drop feature with high null counts\n",
    "df.drop(columns=\"Cabin\", inplace=True)"
   ]
  },
  {
   "cell_type": "code",
   "execution_count": 6,
   "id": "b48431f9",
   "metadata": {
    "execution": {
     "iopub.execute_input": "2022-10-20T10:11:09.798587Z",
     "iopub.status.busy": "2022-10-20T10:11:09.798121Z",
     "iopub.status.idle": "2022-10-20T10:11:09.805706Z",
     "shell.execute_reply": "2022-10-20T10:11:09.805135Z"
    },
    "papermill": {
     "duration": 0.017748,
     "end_time": "2022-10-20T10:11:09.807948",
     "exception": false,
     "start_time": "2022-10-20T10:11:09.790200",
     "status": "completed"
    },
    "tags": []
   },
   "outputs": [
    {
     "data": {
      "text/plain": [
       "Name        891\n",
       "Sex           2\n",
       "Ticket      681\n",
       "Embarked      3\n",
       "dtype: int64"
      ]
     },
     "execution_count": 6,
     "metadata": {},
     "output_type": "execute_result"
    }
   ],
   "source": [
    "# Find low- and high- cardinality categorical variables\n",
    "df.select_dtypes(\"object\").nunique()"
   ]
  },
  {
   "cell_type": "code",
   "execution_count": 7,
   "id": "21d16573",
   "metadata": {
    "execution": {
     "iopub.execute_input": "2022-10-20T10:11:09.824600Z",
     "iopub.status.busy": "2022-10-20T10:11:09.824040Z",
     "iopub.status.idle": "2022-10-20T10:11:09.828854Z",
     "shell.execute_reply": "2022-10-20T10:11:09.828241Z"
    },
    "papermill": {
     "duration": 0.014821,
     "end_time": "2022-10-20T10:11:09.830426",
     "exception": false,
     "start_time": "2022-10-20T10:11:09.815605",
     "status": "completed"
    },
    "tags": []
   },
   "outputs": [],
   "source": [
    "# Drop low- and high- cardinality categorical variables\n",
    "df.drop(columns=[\"Name\",\"Ticket\"], inplace=True)"
   ]
  },
  {
   "cell_type": "code",
   "execution_count": 8,
   "id": "dc4a03c8",
   "metadata": {
    "execution": {
     "iopub.execute_input": "2022-10-20T10:11:09.847145Z",
     "iopub.status.busy": "2022-10-20T10:11:09.846420Z",
     "iopub.status.idle": "2022-10-20T10:11:09.858641Z",
     "shell.execute_reply": "2022-10-20T10:11:09.857756Z"
    },
    "papermill": {
     "duration": 0.022647,
     "end_time": "2022-10-20T10:11:09.860426",
     "exception": false,
     "start_time": "2022-10-20T10:11:09.837779",
     "status": "completed"
    },
    "tags": []
   },
   "outputs": [
    {
     "data": {
      "text/plain": [
       "Survived      2\n",
       "Pclass        3\n",
       "Age          88\n",
       "SibSp         7\n",
       "Parch         7\n",
       "Fare        248\n",
       "dtype: int64"
      ]
     },
     "execution_count": 8,
     "metadata": {},
     "output_type": "execute_result"
    }
   ],
   "source": [
    "# Find and drop columns with multicollinearlity, multicollinearity, that is, features in our feature matrix that are highly correlated with each other\n",
    "df.select_dtypes(\"number\").nunique()"
   ]
  },
  {
   "cell_type": "code",
   "execution_count": 9,
   "id": "5716e4ca",
   "metadata": {
    "execution": {
     "iopub.execute_input": "2022-10-20T10:11:09.877411Z",
     "iopub.status.busy": "2022-10-20T10:11:09.877047Z",
     "iopub.status.idle": "2022-10-20T10:11:09.893763Z",
     "shell.execute_reply": "2022-10-20T10:11:09.892642Z"
    },
    "papermill": {
     "duration": 0.027987,
     "end_time": "2022-10-20T10:11:09.896163",
     "exception": false,
     "start_time": "2022-10-20T10:11:09.868176",
     "status": "completed"
    },
    "tags": []
   },
   "outputs": [
    {
     "name": "stdout",
     "output_type": "stream",
     "text": [
      "<class 'pandas.core.frame.DataFrame'>\n",
      "Int64Index: 891 entries, 1 to 891\n",
      "Data columns (total 8 columns):\n",
      " #   Column    Non-Null Count  Dtype  \n",
      "---  ------    --------------  -----  \n",
      " 0   Survived  891 non-null    int64  \n",
      " 1   Pclass    891 non-null    object \n",
      " 2   Sex       891 non-null    object \n",
      " 3   Age       714 non-null    float64\n",
      " 4   SibSp     891 non-null    object \n",
      " 5   Parch     891 non-null    object \n",
      " 6   Fare      891 non-null    float64\n",
      " 7   Embarked  889 non-null    object \n",
      "dtypes: float64(2), int64(1), object(5)\n",
      "memory usage: 62.6+ KB\n"
     ]
    }
   ],
   "source": [
    "# Change Pclass, SibSp and Parch to categorical data since they are ordinal catergorical data\n",
    "df = df.astype({\"Pclass\":'object',\"SibSp\":'object',\"Parch\": 'object'})\n",
    "df.info()"
   ]
  },
  {
   "cell_type": "code",
   "execution_count": 10,
   "id": "418ddc30",
   "metadata": {
    "execution": {
     "iopub.execute_input": "2022-10-20T10:11:09.914848Z",
     "iopub.status.busy": "2022-10-20T10:11:09.913789Z",
     "iopub.status.idle": "2022-10-20T10:11:10.105121Z",
     "shell.execute_reply": "2022-10-20T10:11:10.104270Z"
    },
    "papermill": {
     "duration": 0.202436,
     "end_time": "2022-10-20T10:11:10.107412",
     "exception": false,
     "start_time": "2022-10-20T10:11:09.904976",
     "status": "completed"
    },
    "tags": []
   },
   "outputs": [
    {
     "data": {
      "image/png": "[encoded data removed]",
      "text/plain": [
       "<Figure size 432x288 with 2 Axes>"
      ]
     },
     "metadata": {
      "needs_background": "light"
     },
     "output_type": "display_data"
    }
   ],
   "source": [
    "\n",
    "# Drop target column \"Survived\" and 3 categorical columns \"Pclass\",\"SibSp\", \"Parch\" to see correlation between number type columns\n",
    "corr = df.select_dtypes(\"number\").drop(columns=[\"Survived\"]).corr()\n",
    "sns.heatmap(corr);"
   ]
  },
  {
   "cell_type": "markdown",
   "id": "39d64e7f",
   "metadata": {
    "papermill": {
     "duration": 0.007421,
     "end_time": "2022-10-20T10:11:10.122916",
     "exception": false,
     "start_time": "2022-10-20T10:11:10.115495",
     "status": "completed"
    },
    "tags": []
   },
   "source": [
    "Checked and didn't find any leaky columns "
   ]
  },
  {
   "cell_type": "code",
   "execution_count": 11,
   "id": "895732af",
   "metadata": {
    "execution": {
     "iopub.execute_input": "2022-10-20T10:11:10.139594Z",
     "iopub.status.busy": "2022-10-20T10:11:10.139292Z",
     "iopub.status.idle": "2022-10-20T10:11:10.277243Z",
     "shell.execute_reply": "2022-10-20T10:11:10.276496Z"
    },
    "papermill": {
     "duration": 0.148871,
     "end_time": "2022-10-20T10:11:10.279357",
     "exception": false,
     "start_time": "2022-10-20T10:11:10.130486",
     "status": "completed"
    },
    "tags": []
   },
   "outputs": [
    {
     "data": {
      "image/png": "[encoded data removed]",
      "text/plain": [
       "<Figure size 432x288 with 1 Axes>"
      ]
     },
     "metadata": {
      "needs_background": "light"
     },
     "output_type": "display_data"
    }
   ],
   "source": [
    "# Check balance dataset by create bar chart\n",
    "df[\"Survived\"].value_counts(normalize=True).plot(\n",
    "    kind=\"bar\", xlabel=\"Survived\", ylabel=\"Relative Frequency\", title=\"Titanic, Class Balance\");"
   ]
  },
  {
   "cell_type": "code",
   "execution_count": 12,
   "id": "8080c92a",
   "metadata": {
    "execution": {
     "iopub.execute_input": "2022-10-20T10:11:10.299162Z",
     "iopub.status.busy": "2022-10-20T10:11:10.298801Z",
     "iopub.status.idle": "2022-10-20T10:11:10.441096Z",
     "shell.execute_reply": "2022-10-20T10:11:10.440407Z"
    },
    "papermill": {
     "duration": 0.153429,
     "end_time": "2022-10-20T10:11:10.443069",
     "exception": false,
     "start_time": "2022-10-20T10:11:10.289640",
     "status": "completed"
    },
    "tags": []
   },
   "outputs": [
    {
     "data": {
      "image/png": "[encoded data removed]",
      "text/plain": [
       "<Figure size 432x288 with 1 Axes>"
      ]
     },
     "metadata": {
      "needs_background": "light"
     },
     "output_type": "display_data"
    }
   ],
   "source": [
    "# The relationship between age and survived status\n",
    "sns.boxplot(x=\"Survived\", y=\"Age\", data=df)\n",
    "plt.xlabel(\"Survived\")\n",
    "plt.ylabel(\"Age\")\n",
    "plt.title(\"Titanic, Age vs Survived\");"
   ]
  },
  {
   "cell_type": "code",
   "execution_count": 13,
   "id": "376b19ea",
   "metadata": {
    "execution": {
     "iopub.execute_input": "2022-10-20T10:11:10.465892Z",
     "iopub.status.busy": "2022-10-20T10:11:10.465507Z",
     "iopub.status.idle": "2022-10-20T10:11:10.484090Z",
     "shell.execute_reply": "2022-10-20T10:11:10.483270Z"
    },
    "papermill": {
     "duration": 0.031545,
     "end_time": "2022-10-20T10:11:10.485950",
     "exception": false,
     "start_time": "2022-10-20T10:11:10.454405",
     "status": "completed"
    },
    "tags": []
   },
   "outputs": [
    {
     "data": {
      "text/html": [
       "<div>\n",
       "<style scoped>\n",
       "    .dataframe tbody tr th:only-of-type {\n",
       "        vertical-align: middle;\n",
       "    }\n",
       "\n",
       "    .dataframe tbody tr th {\n",
       "        vertical-align: top;\n",
       "    }\n",
       "\n",
       "    .dataframe thead th {\n",
       "        text-align: right;\n",
       "    }\n",
       "</style>\n",
       "<table border=\"1\" class=\"dataframe\">\n",
       "  <thead>\n",
       "    <tr style=\"text-align: right;\">\n",
       "      <th></th>\n",
       "      <th>Survived</th>\n",
       "    </tr>\n",
       "    <tr>\n",
       "      <th>Sex</th>\n",
       "      <th></th>\n",
       "    </tr>\n",
       "  </thead>\n",
       "  <tbody>\n",
       "    <tr>\n",
       "      <th>male</th>\n",
       "      <td>0.188908</td>\n",
       "    </tr>\n",
       "    <tr>\n",
       "      <th>female</th>\n",
       "      <td>0.742038</td>\n",
       "    </tr>\n",
       "  </tbody>\n",
       "</table>\n",
       "</div>"
      ],
      "text/plain": [
       "        Survived\n",
       "Sex             \n",
       "male    0.188908\n",
       "female  0.742038"
      ]
     },
     "execution_count": 13,
     "metadata": {},
     "output_type": "execute_result"
    }
   ],
   "source": [
    "# Passenger with certain sex high rate to survive ?\n",
    "sex_pivot = pd.pivot_table(\n",
    "        df, index= \"Sex\", values=\"Survived\", aggfunc=np.mean\n",
    ").sort_values(by=\"Survived\")\n",
    "sex_pivot"
   ]
  },
  {
   "cell_type": "markdown",
   "id": "88702593",
   "metadata": {
    "papermill": {
     "duration": 0.008027,
     "end_time": "2022-10-20T10:11:10.502548",
     "exception": false,
     "start_time": "2022-10-20T10:11:10.494521",
     "status": "completed"
    },
    "tags": []
   },
   "source": [
    "## Split Data  "
   ]
  },
  {
   "cell_type": "code",
   "execution_count": 14,
   "id": "5f14b0ce",
   "metadata": {
    "execution": {
     "iopub.execute_input": "2022-10-20T10:11:10.520420Z",
     "iopub.status.busy": "2022-10-20T10:11:10.520054Z",
     "iopub.status.idle": "2022-10-20T10:11:10.526038Z",
     "shell.execute_reply": "2022-10-20T10:11:10.525369Z"
    },
    "papermill": {
     "duration": 0.01694,
     "end_time": "2022-10-20T10:11:10.527714",
     "exception": false,
     "start_time": "2022-10-20T10:11:10.510774",
     "status": "completed"
    },
    "tags": []
   },
   "outputs": [
    {
     "data": {
      "text/plain": [
       "Index(['Survived', 'Pclass', 'Sex', 'Age', 'SibSp', 'Parch', 'Fare',\n",
       "       'Embarked'],\n",
       "      dtype='object')"
      ]
     },
     "execution_count": 14,
     "metadata": {},
     "output_type": "execute_result"
    }
   ],
   "source": [
    "df.columns"
   ]
  },
  {
   "cell_type": "code",
   "execution_count": 15,
   "id": "fe4ae75a",
   "metadata": {
    "execution": {
     "iopub.execute_input": "2022-10-20T10:11:10.546218Z",
     "iopub.status.busy": "2022-10-20T10:11:10.545655Z",
     "iopub.status.idle": "2022-10-20T10:11:10.550784Z",
     "shell.execute_reply": "2022-10-20T10:11:10.550211Z"
    },
    "papermill": {
     "duration": 0.01624,
     "end_time": "2022-10-20T10:11:10.552494",
     "exception": false,
     "start_time": "2022-10-20T10:11:10.536254",
     "status": "completed"
    },
    "tags": []
   },
   "outputs": [],
   "source": [
    "target = \"Survived\"\n",
    "features = ['Pclass', 'Sex', 'Age', 'SibSp', 'Parch', 'Fare','Embarked']\n",
    "X = df[features]\n",
    "y = df[target]"
   ]
  },
  {
   "cell_type": "code",
   "execution_count": 16,
   "id": "96a4b68b",
   "metadata": {
    "execution": {
     "iopub.execute_input": "2022-10-20T10:11:10.571111Z",
     "iopub.status.busy": "2022-10-20T10:11:10.570700Z",
     "iopub.status.idle": "2022-10-20T10:11:10.577460Z",
     "shell.execute_reply": "2022-10-20T10:11:10.576461Z"
    },
    "papermill": {
     "duration": 0.018276,
     "end_time": "2022-10-20T10:11:10.579254",
     "exception": false,
     "start_time": "2022-10-20T10:11:10.560978",
     "status": "completed"
    },
    "tags": []
   },
   "outputs": [
    {
     "name": "stdout",
     "output_type": "stream",
     "text": [
      "X_train shape: (712, 7)\n",
      "y_train shape: (712,)\n",
      "X_val shape: (179, 7)\n",
      "y_val shape: (179,)\n"
     ]
    }
   ],
   "source": [
    "X_train, X_val, y_train, y_val = train_test_split(\n",
    "    X,y, test_size=0.2, random_state= 42)\n",
    "print(\"X_train shape:\", X_train.shape)\n",
    "print(\"y_train shape:\", y_train.shape)\n",
    "print(\"X_val shape:\", X_val.shape)\n",
    "print(\"y_val shape:\", y_val.shape)"
   ]
  },
  {
   "cell_type": "markdown",
   "id": "82419d62",
   "metadata": {
    "papermill": {
     "duration": 0.008228,
     "end_time": "2022-10-20T10:11:10.595984",
     "exception": false,
     "start_time": "2022-10-20T10:11:10.587756",
     "status": "completed"
    },
    "tags": []
   },
   "source": [
    "# Build Model"
   ]
  },
  {
   "cell_type": "markdown",
   "id": "0c2f3249",
   "metadata": {
    "papermill": {
     "duration": 0.008177,
     "end_time": "2022-10-20T10:11:10.612649",
     "exception": false,
     "start_time": "2022-10-20T10:11:10.604472",
     "status": "completed"
    },
    "tags": []
   },
   "source": [
    "## Baseline"
   ]
  },
  {
   "cell_type": "code",
   "execution_count": 17,
   "id": "feb154a3",
   "metadata": {
    "execution": {
     "iopub.execute_input": "2022-10-20T10:11:10.632066Z",
     "iopub.status.busy": "2022-10-20T10:11:10.630855Z",
     "iopub.status.idle": "2022-10-20T10:11:10.637937Z",
     "shell.execute_reply": "2022-10-20T10:11:10.636855Z"
    },
    "papermill": {
     "duration": 0.01878,
     "end_time": "2022-10-20T10:11:10.639921",
     "exception": false,
     "start_time": "2022-10-20T10:11:10.621141",
     "status": "completed"
    },
    "tags": []
   },
   "outputs": [
    {
     "name": "stdout",
     "output_type": "stream",
     "text": [
      "Baseline Accuracy: 0.62\n"
     ]
    }
   ],
   "source": [
    "acc_baseline = y_train.value_counts(normalize=True).max()\n",
    "print(\"Baseline Accuracy:\", round(acc_baseline, 2))"
   ]
  },
  {
   "cell_type": "markdown",
   "id": "7612c1f6",
   "metadata": {
    "papermill": {
     "duration": 0.008467,
     "end_time": "2022-10-20T10:11:10.657340",
     "exception": false,
     "start_time": "2022-10-20T10:11:10.648873",
     "status": "completed"
    },
    "tags": []
   },
   "source": [
    "## Iterate"
   ]
  },
  {
   "cell_type": "code",
   "execution_count": 18,
   "id": "dd6d7485",
   "metadata": {
    "execution": {
     "iopub.execute_input": "2022-10-20T10:11:10.676531Z",
     "iopub.status.busy": "2022-10-20T10:11:10.676199Z",
     "iopub.status.idle": "2022-10-20T10:11:10.834843Z",
     "shell.execute_reply": "2022-10-20T10:11:10.833988Z"
    },
    "papermill": {
     "duration": 0.170866,
     "end_time": "2022-10-20T10:11:10.836991",
     "exception": false,
     "start_time": "2022-10-20T10:11:10.666125",
     "status": "completed"
    },
    "tags": []
   },
   "outputs": [
    {
     "data": {
      "text/plain": [
       "Pipeline(steps=[('onehotencoder',\n",
       "                 OneHotEncoder(cols=['Pclass', 'Sex', 'SibSp', 'Parch',\n",
       "                                     'Embarked'],\n",
       "                               use_cat_names=True)),\n",
       "                ('simpleimputer', SimpleImputer()),\n",
       "                ('logisticregression', LogisticRegression(max_iter=1000))])"
      ]
     },
     "execution_count": 18,
     "metadata": {},
     "output_type": "execute_result"
    }
   ],
   "source": [
    "# Create logistic regression to predict survival rate\n",
    "model_lr = make_pipeline(\n",
    "    OneHotEncoder(use_cat_names=True),\n",
    "    SimpleImputer(),\n",
    "    LogisticRegression(max_iter=1000))\n",
    "model_lr.fit(X_train, y_train)"
   ]
  },
  {
   "cell_type": "code",
   "execution_count": 19,
   "id": "de28c07f",
   "metadata": {
    "execution": {
     "iopub.execute_input": "2022-10-20T10:11:10.862545Z",
     "iopub.status.busy": "2022-10-20T10:11:10.862179Z",
     "iopub.status.idle": "2022-10-20T10:11:11.482130Z",
     "shell.execute_reply": "2022-10-20T10:11:11.481131Z"
    },
    "papermill": {
     "duration": 0.635282,
     "end_time": "2022-10-20T10:11:11.484297",
     "exception": false,
     "start_time": "2022-10-20T10:11:10.849015",
     "status": "completed"
    },
    "tags": []
   },
   "outputs": [],
   "source": [
    "# Try decision tree model, test hyperparameter from 1-15\n",
    "depth_hyperparams = range(1, 16)\n",
    "training_acc = []\n",
    "validation_acc = []\n",
    "for d in depth_hyperparams:\n",
    "    model_dt = make_pipeline(\n",
    "        OrdinalEncoder(),\n",
    "        SimpleImputer(),\n",
    "        DecisionTreeClassifier(max_depth=d, random_state=42)\n",
    "    )\n",
    "    model_dt.fit(X_train, y_train)\n",
    "    training_acc.append(model_dt.score(X_train, y_train))\n",
    "    validation_acc.append(model_dt.score(X_val, y_val))\n",
    "    "
   ]
  },
  {
   "cell_type": "code",
   "execution_count": 20,
   "id": "7f961ec6",
   "metadata": {
    "execution": {
     "iopub.execute_input": "2022-10-20T10:11:11.504066Z",
     "iopub.status.busy": "2022-10-20T10:11:11.503639Z",
     "iopub.status.idle": "2022-10-20T10:11:11.681277Z",
     "shell.execute_reply": "2022-10-20T10:11:11.680458Z"
    },
    "papermill": {
     "duration": 0.189563,
     "end_time": "2022-10-20T10:11:11.682987",
     "exception": false,
     "start_time": "2022-10-20T10:11:11.493424",
     "status": "completed"
    },
    "tags": []
   },
   "outputs": [
    {
     "data": {
      "image/png": "[encoded data removed]",
      "text/plain": [
       "<Figure size 432x288 with 1 Axes>"
      ]
     },
     "metadata": {
      "needs_background": "light"
     },
     "output_type": "display_data"
    }
   ],
   "source": [
    "# Plot training accuracy score and validation score for choosing max_depth\n",
    "plt.plot(depth_hyperparams,training_acc, label=\"training\")\n",
    "plt.plot(depth_hyperparams,validation_acc, label=\"validation\")\n",
    "plt.xlabel(\"Max Depth\")\n",
    "plt.ylabel(\"Accuracy Score\")\n",
    "plt.title(\"Validation Curve, Decision Tree Model\")\n",
    "plt.legend();"
   ]
  },
  {
   "cell_type": "code",
   "execution_count": 21,
   "id": "8b9e3cdc",
   "metadata": {
    "execution": {
     "iopub.execute_input": "2022-10-20T10:11:11.703647Z",
     "iopub.status.busy": "2022-10-20T10:11:11.703314Z",
     "iopub.status.idle": "2022-10-20T10:11:11.825244Z",
     "shell.execute_reply": "2022-10-20T10:11:11.824342Z"
    },
    "papermill": {
     "duration": 0.13501,
     "end_time": "2022-10-20T10:11:11.827747",
     "exception": false,
     "start_time": "2022-10-20T10:11:11.692737",
     "status": "completed"
    },
    "tags": []
   },
   "outputs": [
    {
     "data": {
      "text/plain": [
       "Pipeline(steps=[('ordinalencoder',\n",
       "                 OrdinalEncoder(cols=['Pclass', 'Sex', 'SibSp', 'Parch',\n",
       "                                      'Embarked'],\n",
       "                                mapping=[{'col': 'Pclass',\n",
       "                                          'data_type': dtype('O'),\n",
       "                                          'mapping': 1.0    1\n",
       "2.0    2\n",
       "3.0    3\n",
       "NaN   -2\n",
       "dtype: int64},\n",
       "                                         {'col': 'Sex', 'data_type': dtype('O'),\n",
       "                                          'mapping': male      1\n",
       "female    2\n",
       "NaN      -2\n",
       "dtype: int64},\n",
       "                                         {'col': 'SibSp',\n",
       "                                          'data_type': dtype('O'),\n",
       "                                          'mapping': 0.0    1\n",
       "1.0    2\n",
       "4.0    3\n",
       "3.0    4\n",
       "2.0    5\n",
       "8.0    6\n",
       "5.0    7\n",
       "NaN   -2\n",
       "dtype: int64},\n",
       "                                         {'col': 'Parch',\n",
       "                                          'data_type': dtype('O'),\n",
       "                                          'mapping': 0.0    1\n",
       "2.0    2\n",
       "1.0    3\n",
       "6.0    4\n",
       "4.0    5\n",
       "3.0    6\n",
       "5.0    7\n",
       "NaN   -2\n",
       "dtype: int64},\n",
       "                                         {'col': 'Embarked',\n",
       "                                          'data_type': dtype('O'),\n",
       "                                          'mapping': S      1\n",
       "C      2\n",
       "Q      3\n",
       "NaN    4\n",
       "dtype: int64}])),\n",
       "                ('simpleimputer', SimpleImputer()),\n",
       "                ('decisiontreeclassifier',\n",
       "                 DecisionTreeClassifier(max_depth=6, random_state=42))])"
      ]
     },
     "execution_count": 21,
     "metadata": {},
     "output_type": "execute_result"
    }
   ],
   "source": [
    "# Chose max_depth is 6\n",
    "final_model_dt = make_pipeline(\n",
    "        OrdinalEncoder(),\n",
    "        SimpleImputer(),\n",
    "        DecisionTreeClassifier(max_depth=6, random_state=42)\n",
    "    )\n",
    "\n",
    "final_model_dt.fit(X_train, y_train)\n"
   ]
  },
  {
   "cell_type": "markdown",
   "id": "7b17fae8",
   "metadata": {
    "papermill": {
     "duration": 0.010066,
     "end_time": "2022-10-20T10:11:11.849563",
     "exception": false,
     "start_time": "2022-10-20T10:11:11.839497",
     "status": "completed"
    },
    "tags": []
   },
   "source": [
    "# Evaluate"
   ]
  },
  {
   "cell_type": "code",
   "execution_count": 22,
   "id": "5be658d2",
   "metadata": {
    "execution": {
     "iopub.execute_input": "2022-10-20T10:11:11.871413Z",
     "iopub.status.busy": "2022-10-20T10:11:11.870658Z",
     "iopub.status.idle": "2022-10-20T10:11:11.917377Z",
     "shell.execute_reply": "2022-10-20T10:11:11.916451Z"
    },
    "papermill": {
     "duration": 0.059903,
     "end_time": "2022-10-20T10:11:11.919580",
     "exception": false,
     "start_time": "2022-10-20T10:11:11.859677",
     "status": "completed"
    },
    "tags": []
   },
   "outputs": [
    {
     "name": "stdout",
     "output_type": "stream",
     "text": [
      "Logistic Regression, Training Accuracy Score: 0.8146067415730337\n",
      "Logistic Regression, Validation Accuracy Score: 0.7988826815642458\n"
     ]
    }
   ],
   "source": [
    "lr_train_acc = accuracy_score(y_train, model_lr.predict(X_train))\n",
    "lr_val_acc = model_lr.score(X_val, y_val)\n",
    "\n",
    "print(\"Logistic Regression, Training Accuracy Score:\", lr_train_acc)\n",
    "print(\"Logistic Regression, Validation Accuracy Score:\", lr_val_acc)"
   ]
  },
  {
   "cell_type": "code",
   "execution_count": 23,
   "id": "fa2f7eac",
   "metadata": {
    "execution": {
     "iopub.execute_input": "2022-10-20T10:11:11.949788Z",
     "iopub.status.busy": "2022-10-20T10:11:11.949394Z",
     "iopub.status.idle": "2022-10-20T10:11:11.975323Z",
     "shell.execute_reply": "2022-10-20T10:11:11.974514Z"
    },
    "papermill": {
     "duration": 0.043113,
     "end_time": "2022-10-20T10:11:11.977228",
     "exception": false,
     "start_time": "2022-10-20T10:11:11.934115",
     "status": "completed"
    },
    "tags": []
   },
   "outputs": [
    {
     "name": "stdout",
     "output_type": "stream",
     "text": [
      "Decision Tree, Training Accuracy Score:: 0.8651685393258427\n",
      "Decision Tree, Validation Accuracy Score: 0.8044692737430168\n"
     ]
    }
   ],
   "source": [
    "dt_train_acc = accuracy_score(y_train, final_model_dt.predict(X_train))\n",
    "dt_val_acc = final_model_dt.score(X_val, y_val)\n",
    "print(\"Decision Tree, Training Accuracy Score::\", dt_train_acc)\n",
    "print(\"Decision Tree, Validation Accuracy Score:\", dt_val_acc)"
   ]
  },
  {
   "cell_type": "raw",
   "id": "d343a4bb",
   "metadata": {
    "papermill": {
     "duration": 0.012425,
     "end_time": "2022-10-20T10:11:12.004340",
     "exception": false,
     "start_time": "2022-10-20T10:11:11.991915",
     "status": "completed"
    },
    "tags": []
   },
   "source": [
    "Decision Tree, Validation Accuracy Score: 0.8044692737430168 is little higher than Logistic Regression 0.7932960893854749"
   ]
  },
  {
   "cell_type": "markdown",
   "id": "a66cd395",
   "metadata": {
    "papermill": {
     "duration": 0.00954,
     "end_time": "2022-10-20T10:11:12.024608",
     "exception": false,
     "start_time": "2022-10-20T10:11:12.015068",
     "status": "completed"
    },
    "tags": []
   },
   "source": [
    "Chose Decision Tree model is final model"
   ]
  },
  {
   "cell_type": "code",
   "execution_count": 24,
   "id": "afe5af78",
   "metadata": {
    "execution": {
     "iopub.execute_input": "2022-10-20T10:11:12.048867Z",
     "iopub.status.busy": "2022-10-20T10:11:12.048470Z",
     "iopub.status.idle": "2022-10-20T10:11:12.077168Z",
     "shell.execute_reply": "2022-10-20T10:11:12.076297Z"
    },
    "papermill": {
     "duration": 0.044462,
     "end_time": "2022-10-20T10:11:12.079101",
     "exception": false,
     "start_time": "2022-10-20T10:11:12.034639",
     "status": "completed"
    },
    "tags": []
   },
   "outputs": [
    {
     "data": {
      "text/html": [
       "<div>\n",
       "<style scoped>\n",
       "    .dataframe tbody tr th:only-of-type {\n",
       "        vertical-align: middle;\n",
       "    }\n",
       "\n",
       "    .dataframe tbody tr th {\n",
       "        vertical-align: top;\n",
       "    }\n",
       "\n",
       "    .dataframe thead th {\n",
       "        text-align: right;\n",
       "    }\n",
       "</style>\n",
       "<table border=\"1\" class=\"dataframe\">\n",
       "  <thead>\n",
       "    <tr style=\"text-align: right;\">\n",
       "      <th></th>\n",
       "      <th>PassengerId</th>\n",
       "      <th>Survived</th>\n",
       "    </tr>\n",
       "  </thead>\n",
       "  <tbody>\n",
       "    <tr>\n",
       "      <th>0</th>\n",
       "      <td>892</td>\n",
       "      <td>0</td>\n",
       "    </tr>\n",
       "    <tr>\n",
       "      <th>1</th>\n",
       "      <td>893</td>\n",
       "      <td>1</td>\n",
       "    </tr>\n",
       "    <tr>\n",
       "      <th>2</th>\n",
       "      <td>894</td>\n",
       "      <td>0</td>\n",
       "    </tr>\n",
       "    <tr>\n",
       "      <th>3</th>\n",
       "      <td>895</td>\n",
       "      <td>0</td>\n",
       "    </tr>\n",
       "    <tr>\n",
       "      <th>4</th>\n",
       "      <td>896</td>\n",
       "      <td>1</td>\n",
       "    </tr>\n",
       "  </tbody>\n",
       "</table>\n",
       "</div>"
      ],
      "text/plain": [
       "   PassengerId  Survived\n",
       "0          892         0\n",
       "1          893         1\n",
       "2          894         0\n",
       "3          895         0\n",
       "4          896         1"
      ]
     },
     "execution_count": 24,
     "metadata": {},
     "output_type": "execute_result"
    }
   ],
   "source": [
    "read_test_file = pd.read_csv(\"../input/titanic/test.csv\")\n",
    "X_test = read_test_file[features]\n",
    "y_test_pred = final_model_dt.predict(X_test)\n",
    "submission = pd.DataFrame(\n",
    "    {\"PassengerId\": read_test_file[\"PassengerId\"],\n",
    "        \"Survived\": y_test_pred})\n",
    "submission.head()"
   ]
  },
  {
   "cell_type": "code",
   "execution_count": 25,
   "id": "0d7a44ca",
   "metadata": {
    "execution": {
     "iopub.execute_input": "2022-10-20T10:11:12.102107Z",
     "iopub.status.busy": "2022-10-20T10:11:12.101211Z",
     "iopub.status.idle": "2022-10-20T10:11:12.105688Z",
     "shell.execute_reply": "2022-10-20T10:11:12.105082Z"
    },
    "papermill": {
     "duration": 0.017321,
     "end_time": "2022-10-20T10:11:12.107382",
     "exception": false,
     "start_time": "2022-10-20T10:11:12.090061",
     "status": "completed"
    },
    "tags": []
   },
   "outputs": [],
   "source": [
    "#submission.to_csv(\"./Titanic/submission01.csv\",index=False)"
   ]
  },
  {
   "cell_type": "markdown",
   "id": "810da6c0",
   "metadata": {
    "papermill": {
     "duration": 0.009836,
     "end_time": "2022-10-20T10:11:12.127573",
     "exception": false,
     "start_time": "2022-10-20T10:11:12.117737",
     "status": "completed"
    },
    "tags": []
   },
   "source": [
    "# Communicate"
   ]
  },
  {
   "cell_type": "code",
   "execution_count": 26,
   "id": "69b9060e",
   "metadata": {
    "execution": {
     "iopub.execute_input": "2022-10-20T10:11:12.149968Z",
     "iopub.status.busy": "2022-10-20T10:11:12.149229Z",
     "iopub.status.idle": "2022-10-20T10:11:13.477188Z",
     "shell.execute_reply": "2022-10-20T10:11:13.476376Z"
    },
    "papermill": {
     "duration": 1.342204,
     "end_time": "2022-10-20T10:11:13.480096",
     "exception": false,
     "start_time": "2022-10-20T10:11:12.137892",
     "status": "completed"
    },
    "tags": []
   },
   "outputs": [
    {
     "data": {
      "image/png": "[encoded data removed]",
      "text/plain": [
       "<Figure size 1800x864 with 1 Axes>"
      ]
     },
     "metadata": {
      "needs_background": "light"
     },
     "output_type": "display_data"
    }
   ],
   "source": [
    "# Visualize the decision logic for decision tree model\n",
    "# Create larger figure\n",
    "fig, ax = plt.subplots(figsize=(25, 12))\n",
    "# Plot tree\n",
    "plot_tree(\n",
    "    decision_tree= final_model_dt.named_steps['decisiontreeclassifier'],\n",
    "    feature_names= X_train.columns,\n",
    "    filled=True,  # Color leaf with class\n",
    "    rounded=True,  # Round leaf edges\n",
    "    proportion=True,  # Display proportion of classes in leaf\n",
    "    max_depth=3,  # Only display first 3 levels\n",
    "    fontsize=12,  # Enlarge font\n",
    "    ax=ax,  # Place in figure axis\n",
    ");"
   ]
  },
  {
   "cell_type": "code",
   "execution_count": 27,
   "id": "c94b9e57",
   "metadata": {
    "execution": {
     "iopub.execute_input": "2022-10-20T10:11:13.506451Z",
     "iopub.status.busy": "2022-10-20T10:11:13.505896Z",
     "iopub.status.idle": "2022-10-20T10:11:13.512445Z",
     "shell.execute_reply": "2022-10-20T10:11:13.511327Z"
    },
    "papermill": {
     "duration": 0.021878,
     "end_time": "2022-10-20T10:11:13.514468",
     "exception": false,
     "start_time": "2022-10-20T10:11:13.492590",
     "status": "completed"
    },
    "tags": []
   },
   "outputs": [
    {
     "name": "stdout",
     "output_type": "stream",
     "text": [
      "Features: Index(['Pclass', 'Sex', 'Age'], dtype='object')\n",
      "Importances: [0.18759982 0.50704316 0.09814824]\n"
     ]
    }
   ],
   "source": [
    "features = X_train.columns\n",
    "importances = final_model_dt.named_steps['decisiontreeclassifier'].feature_importances_\n",
    "\n",
    "print(\"Features:\", features[:3])\n",
    "print(\"Importances:\", importances[:3])"
   ]
  },
  {
   "cell_type": "code",
   "execution_count": 28,
   "id": "9cfc452f",
   "metadata": {
    "execution": {
     "iopub.execute_input": "2022-10-20T10:11:13.538947Z",
     "iopub.status.busy": "2022-10-20T10:11:13.538654Z",
     "iopub.status.idle": "2022-10-20T10:11:13.545087Z",
     "shell.execute_reply": "2022-10-20T10:11:13.544359Z"
    },
    "papermill": {
     "duration": 0.020584,
     "end_time": "2022-10-20T10:11:13.546933",
     "exception": false,
     "start_time": "2022-10-20T10:11:13.526349",
     "status": "completed"
    },
    "tags": []
   },
   "outputs": [
    {
     "data": {
      "text/plain": [
       "Parch       0.002154\n",
       "Embarked    0.012159\n",
       "SibSp       0.034980\n",
       "Age         0.098148\n",
       "Fare        0.157916\n",
       "dtype: float64"
      ]
     },
     "execution_count": 28,
     "metadata": {},
     "output_type": "execute_result"
    }
   ],
   "source": [
    "feat_imp = pd.Series(importances,index=features).sort_values()\n",
    "feat_imp.head()"
   ]
  },
  {
   "cell_type": "code",
   "execution_count": 29,
   "id": "242f3601",
   "metadata": {
    "execution": {
     "iopub.execute_input": "2022-10-20T10:11:13.574473Z",
     "iopub.status.busy": "2022-10-20T10:11:13.573960Z",
     "iopub.status.idle": "2022-10-20T10:11:13.716517Z",
     "shell.execute_reply": "2022-10-20T10:11:13.715936Z"
    },
    "papermill": {
     "duration": 0.158165,
     "end_time": "2022-10-20T10:11:13.718100",
     "exception": false,
     "start_time": "2022-10-20T10:11:13.559935",
     "status": "completed"
    },
    "tags": []
   },
   "outputs": [
    {
     "data": {
      "text/plain": [
       "Text(0.5, 1.0, 'Titanic Decision Tree, Feature Importance')"
      ]
     },
     "execution_count": 29,
     "metadata": {},
     "output_type": "execute_result"
    },
    {
     "data": {
      "image/png": "[encoded data removed]",
      "text/plain": [
       "<Figure size 432x288 with 1 Axes>"
      ]
     },
     "metadata": {
      "needs_background": "light"
     },
     "output_type": "display_data"
    }
   ],
   "source": [
    "feat_imp.plot(kind='barh')\n",
    "plt.xlabel(\"Gini Importance\")\n",
    "plt.title(\"Titanic Decision Tree, Feature Importance\")"
   ]
  },
  {
   "cell_type": "code",
   "execution_count": null,
   "id": "84bff8a4",
   "metadata": {
    "papermill": {
     "duration": 0.011956,
     "end_time": "2022-10-20T10:11:13.742243",
     "exception": false,
     "start_time": "2022-10-20T10:11:13.730287",
     "status": "completed"
    },
    "tags": []
   },
   "outputs": [],
   "source": []
  }
 ],
 "metadata": {
  "kernelspec": {
   "display_name": "Python 3",
   "language": "python",
   "name": "python3"
  },
  "language_info": {
   "codemirror_mode": {
    "name": "ipython",
    "version": 3
   },
   "file_extension": ".py",
   "mimetype": "text/x-python",
   "name": "python",
   "nbconvert_exporter": "python",
   "pygments_lexer": "ipython3",
   "version": "3.7.12"
  },
  "papermill": {
   "default_parameters": {},
   "duration": 13.402446,
   "end_time": "2022-10-20T10:11:14.473414",
   "environment_variables": {},
   "exception": null,
   "input_path": "__notebook__.ipynb",
   "output_path": "__notebook__.ipynb",
   "parameters": {},
   "start_time": "2022-10-20T10:11:01.070968",
   "version": "2.3.4"
  }
 },
 "nbformat": 4,
 "nbformat_minor": 5
}
